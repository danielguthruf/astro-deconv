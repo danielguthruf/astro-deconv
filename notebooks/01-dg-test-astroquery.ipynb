{
 "cells": [
  {
   "cell_type": "code",
   "execution_count": 2,
   "metadata": {},
   "outputs": [],
   "source": [
    "from astroquery.esa.hubble import ESAHubble\n",
    "TEST_PATH=\"/home/dguthruf/Dev/astro-deconv/data/raw/hubble/test/\"\n",
    "esahubble = ESAHubble()\n",
    "result = esahubble.query_criteria(calibration_level = 'PRODUCT',\n",
    "                                  data_product_type = 'image',\n",
    "                                  intent='SCIENCE',\n",
    "                                  obs_collection=['HLA'],\n",
    "                                  instrument_name = ['WFC3'],\n",
    "                                  filters = ['F555W', 'F606W'],\n",
    "                                  async_job = True,\n",
    "                                  output_file = f'{TEST_PATH}_1.vot.gz',\n",
    "                                  output_format=\"votable\",\n",
    "                                  verbose = False,\n",
    "                                  get_query = False)"
   ]
  },
  {
   "cell_type": "code",
   "execution_count": null,
   "metadata": {},
   "outputs": [],
   "source": []
  }
 ],
 "metadata": {
  "kernelspec": {
   "display_name": "astro",
   "language": "python",
   "name": "python3"
  },
  "language_info": {
   "codemirror_mode": {
    "name": "ipython",
    "version": 3
   },
   "file_extension": ".py",
   "mimetype": "text/x-python",
   "name": "python",
   "nbconvert_exporter": "python",
   "pygments_lexer": "ipython3",
   "version": "3.10.6"
  },
  "orig_nbformat": 4
 },
 "nbformat": 4,
 "nbformat_minor": 2
}
