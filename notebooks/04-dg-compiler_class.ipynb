{
 "cells": [
  {
   "cell_type": "code",
   "execution_count": 2,
   "metadata": {},
   "outputs": [],
   "source": [
    "import monai.losses as losses\n",
    "import torchgeometry as tgm\n"
   ]
  },
  {
   "cell_type": "code",
   "execution_count": 3,
   "metadata": {},
   "outputs": [],
   "source": [
    "class LossFactory:\n",
    "    def __init__(self):\n",
    "        self.losses = {\n",
    "            'DiceLoss': losses.DiceLoss,\n",
    "            'MaskedDiceLoss': losses.MaskedDiceLoss,\n",
    "            'GeneralizedDiceLoss': losses.GeneralizedDiceLoss,\n",
    "            'GeneralizedWassersteinDiceLoss': losses.GeneralizedWassersteinDiceLoss,\n",
    "            'DiceCELoss': losses.DiceCELoss,\n",
    "            'DiceFocalLoss': losses.DiceFocalLoss\n",
    "        }\n",
    "    \n",
    "    def create_loss(self, loss_dict):\n",
    "        loss_name = loss_dict.pop('name')\n",
    "        if loss_name not in self.losses:\n",
    "            raise ValueError(f\"Unknown loss function name: {loss_name}\")\n",
    "        return self.losses[loss_name](**loss_dict)"
   ]
  },
  {
   "cell_type": "code",
   "execution_count": 7,
   "metadata": {},
   "outputs": [],
   "source": [
    "factory = LossFactory()\n",
    "loss_dict = {'name': 'DiceCELoss', 'include_background': True, 'reduction': 'mean','lambda_ce':1, 'lambda_dice':1}\n",
    "dice_loss = factory.create_loss(loss_dict)"
   ]
  },
  {
   "cell_type": "code",
   "execution_count": 8,
   "metadata": {},
   "outputs": [
    {
     "data": {
      "text/plain": [
       "DiceCELoss(\n",
       "  (dice): DiceLoss()\n",
       "  (cross_entropy): CrossEntropyLoss()\n",
       ")"
      ]
     },
     "execution_count": 8,
     "metadata": {},
     "output_type": "execute_result"
    }
   ],
   "source": [
    "with open('optimizers.yaml', 'r') as f:\n",
    "    optimizer_config = yaml.safe_load(f)\n",
    "\n",
    "optimizer_factory = OptimizerFactory()\n",
    "optimizer = optimizer_factory.create_optimizer(optimizer_config['weightedadam'])\n",
    "print(optimizer)"
   ]
  },
  {
   "cell_type": "code",
   "execution_count": null,
   "metadata": {},
   "outputs": [],
   "source": []
  }
 ],
 "metadata": {
  "kernelspec": {
   "display_name": "astro",
   "language": "python",
   "name": "python3"
  },
  "language_info": {
   "codemirror_mode": {
    "name": "ipython",
    "version": 3
   },
   "file_extension": ".py",
   "mimetype": "text/x-python",
   "name": "python",
   "nbconvert_exporter": "python",
   "pygments_lexer": "ipython3",
   "version": "3.10.6"
  },
  "orig_nbformat": 4
 },
 "nbformat": 4,
 "nbformat_minor": 2
}
